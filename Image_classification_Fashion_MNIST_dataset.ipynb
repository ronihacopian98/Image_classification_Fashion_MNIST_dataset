{
  "nbformat": 4,
  "nbformat_minor": 0,
  "metadata": {
    "colab": {
      "provenance": [],
      "collapsed_sections": [
        "S3VwuPaK1Mfp",
        "1y44tOF-1F1w",
        "ym23jGAG7QiO"
      ]
    },
    "kernelspec": {
      "name": "python3",
      "display_name": "Python 3"
    },
    "language_info": {
      "name": "python"
    }
  },
  "cells": [
    {
      "cell_type": "markdown",
      "source": [
        "##Importing necessary libraries"
      ],
      "metadata": {
        "id": "YHjZ06zEEdZN"
      }
    },
    {
      "cell_type": "code",
      "execution_count": null,
      "metadata": {
        "id": "uGqAx7uudXjt"
      },
      "outputs": [],
      "source": [
        "import tensorflow as tf\n",
        "from tensorflow import keras\n",
        "import matplotlib.pyplot as plt\n",
        "import numpy as np\n",
        "from keras.models import Sequential\n",
        "from keras.layers import Dense, Flatten, BatchNormalization, Dropout, Conv2D, MaxPooling2D\n",
        "from keras.applications.vgg16 import preprocess_input, VGG16\n",
        "from keras.utils import to_categorical"
      ]
    },
    {
      "cell_type": "markdown",
      "source": [
        "##Load the dataset"
      ],
      "metadata": {
        "id": "wWGVeDaHEqOo"
      }
    },
    {
      "cell_type": "code",
      "source": [
        "mnist_data=keras.datasets.fashion_mnist"
      ],
      "metadata": {
        "id": "H2KdZSRed-bI"
      },
      "execution_count": null,
      "outputs": []
    },
    {
      "cell_type": "code",
      "source": [
        "(x_train,y_train) , (x_test,y_test)= mnist_data.load_data()"
      ],
      "metadata": {
        "id": "jMVSnX2reIRS",
        "colab": {
          "base_uri": "https://localhost:8080/"
        },
        "outputId": "5e83ad89-4fa0-4f78-84a0-edf07262ad14"
      },
      "execution_count": null,
      "outputs": [
        {
          "output_type": "stream",
          "name": "stdout",
          "text": [
            "Downloading data from https://storage.googleapis.com/tensorflow/tf-keras-datasets/train-labels-idx1-ubyte.gz\n",
            "29515/29515 [==============================] - 0s 0us/step\n",
            "Downloading data from https://storage.googleapis.com/tensorflow/tf-keras-datasets/train-images-idx3-ubyte.gz\n",
            "26421880/26421880 [==============================] - 0s 0us/step\n",
            "Downloading data from https://storage.googleapis.com/tensorflow/tf-keras-datasets/t10k-labels-idx1-ubyte.gz\n",
            "5148/5148 [==============================] - 0s 0us/step\n",
            "Downloading data from https://storage.googleapis.com/tensorflow/tf-keras-datasets/t10k-images-idx3-ubyte.gz\n",
            "4422102/4422102 [==============================] - 0s 0us/step\n"
          ]
        }
      ]
    },
    {
      "cell_type": "code",
      "source": [
        "x_train.shape"
      ],
      "metadata": {
        "colab": {
          "base_uri": "https://localhost:8080/"
        },
        "id": "gZ-hMYfReZnR",
        "outputId": "be606aa6-7313-4d1c-869d-ecc0513bc77a"
      },
      "execution_count": null,
      "outputs": [
        {
          "output_type": "execute_result",
          "data": {
            "text/plain": [
              "(60000, 28, 28)"
            ]
          },
          "metadata": {},
          "execution_count": 4
        }
      ]
    },
    {
      "cell_type": "code",
      "source": [
        "x_test.shape"
      ],
      "metadata": {
        "colab": {
          "base_uri": "https://localhost:8080/"
        },
        "id": "RdEFPU2Yejau",
        "outputId": "bcd45c56-2adc-4179-acc3-71d57c3c2dfd"
      },
      "execution_count": null,
      "outputs": [
        {
          "output_type": "execute_result",
          "data": {
            "text/plain": [
              "(10000, 28, 28)"
            ]
          },
          "metadata": {},
          "execution_count": 5
        }
      ]
    },
    {
      "cell_type": "code",
      "source": [
        "y_train.shape"
      ],
      "metadata": {
        "colab": {
          "base_uri": "https://localhost:8080/"
        },
        "id": "6u58tfKzemwF",
        "outputId": "d92de64a-7a51-4cfc-e406-9827c034d0e1"
      },
      "execution_count": null,
      "outputs": [
        {
          "output_type": "execute_result",
          "data": {
            "text/plain": [
              "(60000,)"
            ]
          },
          "metadata": {},
          "execution_count": 6
        }
      ]
    },
    {
      "cell_type": "code",
      "source": [
        "y_test.shape"
      ],
      "metadata": {
        "colab": {
          "base_uri": "https://localhost:8080/"
        },
        "id": "9T96bI8vSuHi",
        "outputId": "81a21e35-c988-4e6d-9ed0-cd8d19c7c8ea"
      },
      "execution_count": null,
      "outputs": [
        {
          "output_type": "execute_result",
          "data": {
            "text/plain": [
              "(10000,)"
            ]
          },
          "metadata": {},
          "execution_count": 7
        }
      ]
    },
    {
      "cell_type": "code",
      "source": [
        "classes = np.unique(y_train)\n",
        "num_classes = len(classes)\n",
        "num_classes"
      ],
      "metadata": {
        "colab": {
          "base_uri": "https://localhost:8080/"
        },
        "id": "QE4_PQexRnTj",
        "outputId": "8e77b4fa-0cb9-4116-9883-205ec8fc3e3a"
      },
      "execution_count": null,
      "outputs": [
        {
          "output_type": "execute_result",
          "data": {
            "text/plain": [
              "10"
            ]
          },
          "metadata": {},
          "execution_count": 8
        }
      ]
    },
    {
      "cell_type": "code",
      "source": [
        "plt.imshow(x_train[0,] , cmap='gray')"
      ],
      "metadata": {
        "colab": {
          "base_uri": "https://localhost:8080/",
          "height": 447
        },
        "id": "UnPr5UjxesEt",
        "outputId": "905cd47e-40f9-497d-db69-a0401e60ccc5"
      },
      "execution_count": null,
      "outputs": [
        {
          "output_type": "execute_result",
          "data": {
            "text/plain": [
              "<matplotlib.image.AxesImage at 0x7811a41585e0>"
            ]
          },
          "metadata": {},
          "execution_count": 9
        },
        {
          "output_type": "display_data",
          "data": {
            "text/plain": [
              "<Figure size 640x480 with 1 Axes>"
            ],
            "image/png": "[encoded data removed]"
          },
          "metadata": {}
        }
      ]
    },
    {
      "cell_type": "code",
      "source": [
        "x_train=x_train/255.0\n",
        "x_test=x_test/255.0"
      ],
      "metadata": {
        "id": "4TWd622ee89g"
      },
      "execution_count": null,
      "outputs": []
    },
    {
      "cell_type": "markdown",
      "source": [
        "#Model 1: Feedforward Neural *Network*"
      ],
      "metadata": {
        "id": "S3VwuPaK1Mfp"
      }
    },
    {
      "cell_type": "markdown",
      "source": [
        "##Defining Model 1"
      ],
      "metadata": {
        "id": "VmLxTUHsE6mM"
      }
    },
    {
      "cell_type": "code",
      "source": [
        "model_1=Sequential()\n",
        "model_1.add(Flatten(input_shape=[28,28]))\n",
        "model_1.add(Dense(100,activation=\"elu\",kernel_initializer='he_normal'))\n",
        "model_1.add(BatchNormalization())\n",
        "model_1.add(Dense(75,activation=\"elu\",kernel_initializer='he_normal'))\n",
        "model_1.add(BatchNormalization())\n",
        "model_1.add(Dense(10,activation=\"softmax\"))"
      ],
      "metadata": {
        "id": "wWQ6x9XnfaAG"
      },
      "execution_count": null,
      "outputs": []
    },
    {
      "cell_type": "code",
      "source": [
        "model_1.summary()"
      ],
      "metadata": {
        "id": "S7ctypIEgwWS",
        "colab": {
          "base_uri": "https://localhost:8080/"
        },
        "outputId": "e76257fb-ba8d-4c52-c38b-3ecf136e080b"
      },
      "execution_count": null,
      "outputs": [
        {
          "output_type": "stream",
          "name": "stdout",
          "text": [
            "Model: \"sequential\"\n",
            "_________________________________________________________________\n",
            " Layer (type)                Output Shape              Param #   \n",
            "=================================================================\n",
            " flatten (Flatten)           (None, 784)               0         \n",
            "                                                                 \n",
            " dense (Dense)               (None, 100)               78500     \n",
            "                                                                 \n",
            " batch_normalization (Batch  (None, 100)               400       \n",
            " Normalization)                                                  \n",
            "                                                                 \n",
            " dense_1 (Dense)             (None, 75)                7575      \n",
            "                                                                 \n",
            " batch_normalization_1 (Bat  (None, 75)                300       \n",
            " chNormalization)                                                \n",
            "                                                                 \n",
            " dense_2 (Dense)             (None, 10)                760       \n",
            "                                                                 \n",
            "=================================================================\n",
            "Total params: 87535 (341.93 KB)\n",
            "Trainable params: 87185 (340.57 KB)\n",
            "Non-trainable params: 350 (1.37 KB)\n",
            "_________________________________________________________________\n"
          ]
        }
      ]
    },
    {
      "cell_type": "code",
      "source": [
        "model_1.layers"
      ],
      "metadata": {
        "id": "HlJcvkqBhBrb",
        "colab": {
          "base_uri": "https://localhost:8080/"
        },
        "outputId": "751d4004-c87b-41f1-9b93-cd7688b5fd30"
      },
      "execution_count": null,
      "outputs": [
        {
          "output_type": "execute_result",
          "data": {
            "text/plain": [
              "[<keras.src.layers.reshaping.flatten.Flatten at 0x781225df1d50>,\n",
              " <keras.src.layers.core.dense.Dense at 0x78119e93ae60>,\n",
              " <keras.src.layers.normalization.batch_normalization.BatchNormalization at 0x78119e93b2b0>,\n",
              " <keras.src.layers.core.dense.Dense at 0x7811a0ec4490>,\n",
              " <keras.src.layers.normalization.batch_normalization.BatchNormalization at 0x78119e93bb50>,\n",
              " <keras.src.layers.core.dense.Dense at 0x7811a0ec5540>]"
            ]
          },
          "metadata": {},
          "execution_count": 13
        }
      ]
    },
    {
      "cell_type": "markdown",
      "source": [
        "##Compiling model 1\n"
      ],
      "metadata": {
        "id": "JIQnGIg6F5TD"
      }
    },
    {
      "cell_type": "code",
      "source": [
        "model_1.compile(loss=\"sparse_categorical_crossentropy\",\n",
        "              optimizer=\"RMSprop\",\n",
        "              metrics=[\"accuracy\"])"
      ],
      "metadata": {
        "id": "25NWUElAhajJ"
      },
      "execution_count": null,
      "outputs": []
    },
    {
      "cell_type": "markdown",
      "source": [
        "##Callbacks for model 1"
      ],
      "metadata": {
        "id": "B7mmM3uGFz2D"
      }
    },
    {
      "cell_type": "code",
      "source": [
        "Model_check_call=keras.callbacks.ModelCheckpoint(\"Model_fashion_mnist.h5\", save_best_only=True)\n",
        "Early_stop_call=keras.callbacks.EarlyStopping(patience=5,restore_best_weights=True)\n",
        "Tensorboard_call=keras.callbacks.TensorBoard(\"tb_log\")\n",
        "\n",
        "my_callbacks=[Model_check_call,Early_stop_call,Tensorboard_call]"
      ],
      "metadata": {
        "id": "S3ojxV-4o9zv"
      },
      "execution_count": null,
      "outputs": []
    },
    {
      "cell_type": "markdown",
      "source": [
        "##Fitting model 1"
      ],
      "metadata": {
        "id": "TLvZgozeGE7b"
      }
    },
    {
      "cell_type": "code",
      "source": [
        "m1=model_1.fit(x_train,y_train,epochs=50,\n",
        "                  validation_split=0.15,callbacks=my_callbacks)"
      ],
      "metadata": {
        "id": "pTaVz2DNhzPx",
        "colab": {
          "base_uri": "https://localhost:8080/"
        },
        "outputId": "fe93520d-f59e-4cfb-9d12-66f1d9a9e2cd"
      },
      "execution_count": null,
      "outputs": [
        {
          "output_type": "stream",
          "name": "stdout",
          "text": [
            "Epoch 1/50\n",
            "1594/1594 [==============================] - 10s 5ms/step - loss: 0.4798 - accuracy: 0.8292 - val_loss: 0.4656 - val_accuracy: 0.8224\n",
            "Epoch 2/50\n",
            "  16/1594 [..............................] - ETA: 11s - loss: 0.3262 - accuracy: 0.8770"
          ]
        },
        {
          "output_type": "stream",
          "name": "stderr",
          "text": [
            "/usr/local/lib/python3.10/dist-packages/keras/src/engine/training.py:3079: UserWarning: You are saving your model as an HDF5 file via `model.save()`. This file format is considered legacy. We recommend using instead the native Keras format, e.g. `model.save('my_model.keras')`.\n",
            "  saving_api.save_model(\n"
          ]
        },
        {
          "output_type": "stream",
          "name": "stdout",
          "text": [
            "1594/1594 [==============================] - 7s 4ms/step - loss: 0.3695 - accuracy: 0.8658 - val_loss: 0.3570 - val_accuracy: 0.8681\n",
            "Epoch 3/50\n",
            "1594/1594 [==============================] - 9s 6ms/step - loss: 0.3337 - accuracy: 0.8797 - val_loss: 0.3789 - val_accuracy: 0.8628\n",
            "Epoch 4/50\n",
            "1594/1594 [==============================] - 6s 4ms/step - loss: 0.3112 - accuracy: 0.8864 - val_loss: 0.3294 - val_accuracy: 0.8841\n",
            "Epoch 5/50\n",
            "1594/1594 [==============================] - 9s 6ms/step - loss: 0.2931 - accuracy: 0.8946 - val_loss: 0.3406 - val_accuracy: 0.8792\n",
            "Epoch 6/50\n",
            "1594/1594 [==============================] - 9s 5ms/step - loss: 0.2815 - accuracy: 0.8962 - val_loss: 0.3361 - val_accuracy: 0.8831\n",
            "Epoch 7/50\n",
            "1594/1594 [==============================] - 8s 5ms/step - loss: 0.2691 - accuracy: 0.9015 - val_loss: 0.3413 - val_accuracy: 0.8837\n",
            "Epoch 8/50\n",
            "1594/1594 [==============================] - 8s 5ms/step - loss: 0.2589 - accuracy: 0.9057 - val_loss: 0.3496 - val_accuracy: 0.8778\n",
            "Epoch 9/50\n",
            "1594/1594 [==============================] - 7s 4ms/step - loss: 0.2523 - accuracy: 0.9078 - val_loss: 0.3411 - val_accuracy: 0.8837\n"
          ]
        }
      ]
    },
    {
      "cell_type": "code",
      "source": [
        "m1.history"
      ],
      "metadata": {
        "id": "gTaHXbQIiKQm",
        "colab": {
          "base_uri": "https://localhost:8080/"
        },
        "outputId": "20515fdf-e886-47c8-f9e0-57589c028ba7"
      },
      "execution_count": null,
      "outputs": [
        {
          "output_type": "execute_result",
          "data": {
            "text/plain": [
              "{'loss': [0.4797514081001282,\n",
              "  0.3695186972618103,\n",
              "  0.3337450623512268,\n",
              "  0.3111608028411865,\n",
              "  0.29310059547424316,\n",
              "  0.2814566195011139,\n",
              "  0.269054651260376,\n",
              "  0.25894859433174133,\n",
              "  0.2522975206375122],\n",
              " 'accuracy': [0.8291764855384827,\n",
              "  0.8658038973808289,\n",
              "  0.8796862959861755,\n",
              "  0.8864117860794067,\n",
              "  0.8946078419685364,\n",
              "  0.8961764574050903,\n",
              "  0.9014706015586853,\n",
              "  0.9057254791259766,\n",
              "  0.9078431129455566],\n",
              " 'val_loss': [0.4656114876270294,\n",
              "  0.3570103645324707,\n",
              "  0.37891685962677,\n",
              "  0.32935836911201477,\n",
              "  0.3405982553958893,\n",
              "  0.33609622716903687,\n",
              "  0.3412929177284241,\n",
              "  0.34959501028060913,\n",
              "  0.34108394384384155],\n",
              " 'val_accuracy': [0.8224444389343262,\n",
              "  0.8681111335754395,\n",
              "  0.8627777695655823,\n",
              "  0.8841111063957214,\n",
              "  0.8792222142219543,\n",
              "  0.8831111192703247,\n",
              "  0.8836666941642761,\n",
              "  0.8777777552604675,\n",
              "  0.8836666941642761]}"
            ]
          },
          "metadata": {},
          "execution_count": 18
        }
      ]
    },
    {
      "cell_type": "markdown",
      "source": [
        "##Evaluate Model 1"
      ],
      "metadata": {
        "id": "vS6J-cbIGUE5"
      }
    },
    {
      "cell_type": "code",
      "source": [
        "model_1.evaluate(x_test,y_test,verbose=0)"
      ],
      "metadata": {
        "id": "qAX23qENsI_r",
        "colab": {
          "base_uri": "https://localhost:8080/"
        },
        "outputId": "7186a6e1-6e89-4deb-e60d-9dc914e26f8f"
      },
      "execution_count": null,
      "outputs": [
        {
          "output_type": "execute_result",
          "data": {
            "text/plain": [
              "[0.35626551508903503, 0.8730000257492065]"
            ]
          },
          "metadata": {},
          "execution_count": 19
        }
      ]
    },
    {
      "cell_type": "code",
      "source": [
        "x2=x_test[1:3,:,:]"
      ],
      "metadata": {
        "id": "jooWd1LmtJZ5"
      },
      "execution_count": null,
      "outputs": []
    },
    {
      "cell_type": "code",
      "source": [
        "x2.shape"
      ],
      "metadata": {
        "id": "r4fbNCewx6l_",
        "colab": {
          "base_uri": "https://localhost:8080/"
        },
        "outputId": "0d72fce5-9c66-4443-d166-a6d8f6b0abf2"
      },
      "execution_count": null,
      "outputs": [
        {
          "output_type": "execute_result",
          "data": {
            "text/plain": [
              "(2, 28, 28)"
            ]
          },
          "metadata": {},
          "execution_count": 21
        }
      ]
    },
    {
      "cell_type": "code",
      "source": [
        "plt.imshow(x2[0] , cmap=\"gray\")"
      ],
      "metadata": {
        "id": "nVNKNgMOyAru",
        "colab": {
          "base_uri": "https://localhost:8080/",
          "height": 447
        },
        "outputId": "07f9b88c-e653-4baf-d504-32a845d02a1a"
      },
      "execution_count": null,
      "outputs": [
        {
          "output_type": "execute_result",
          "data": {
            "text/plain": [
              "<matplotlib.image.AxesImage at 0x78118463f610>"
            ]
          },
          "metadata": {},
          "execution_count": 22
        },
        {
          "output_type": "display_data",
          "data": {
            "text/plain": [
              "<Figure size 640x480 with 1 Axes>"
            ],
            "image/png": "[encoded data removed]"
          },
          "metadata": {}
        }
      ]
    },
    {
      "cell_type": "code",
      "source": [
        "plt.imshow(x2[1] , cmap=\"gray\")"
      ],
      "metadata": {
        "id": "m1FBXBUQyPJx",
        "colab": {
          "base_uri": "https://localhost:8080/",
          "height": 447
        },
        "outputId": "5b01d4dc-9787-4a33-8642-0598d537e541"
      },
      "execution_count": null,
      "outputs": [
        {
          "output_type": "execute_result",
          "data": {
            "text/plain": [
              "<matplotlib.image.AxesImage at 0x78117176d4b0>"
            ]
          },
          "metadata": {},
          "execution_count": 23
        },
        {
          "output_type": "display_data",
          "data": {
            "text/plain": [
              "<Figure size 640x480 with 1 Axes>"
            ],
            "image/png": "[encoded data removed]"
          },
          "metadata": {}
        }
      ]
    },
    {
      "cell_type": "markdown",
      "source": [
        "##Predict with model 1"
      ],
      "metadata": {
        "id": "tnT1kQSuGjOj"
      }
    },
    {
      "cell_type": "code",
      "source": [
        "model_1.predict(x2)"
      ],
      "metadata": {
        "id": "Z10WCDKDyYwc",
        "colab": {
          "base_uri": "https://localhost:8080/"
        },
        "outputId": "5d7c8561-68ef-4c82-a6fa-3b1df3e1653d"
      },
      "execution_count": null,
      "outputs": [
        {
          "output_type": "stream",
          "name": "stdout",
          "text": [
            "1/1 [==============================] - 0s 172ms/step\n"
          ]
        },
        {
          "output_type": "execute_result",
          "data": {
            "text/plain": [
              "array([[9.8533885e-05, 1.0095754e-08, 9.9524009e-01, 1.0025756e-07,\n",
              "        4.4729756e-03, 2.2375811e-05, 1.5481803e-04, 1.0989361e-05,\n",
              "        2.1010227e-09, 7.1209293e-08],\n",
              "       [1.2964826e-05, 9.9995279e-01, 2.9808009e-06, 3.9154884e-06,\n",
              "        3.3933843e-06, 8.3236500e-06, 9.4338830e-06, 3.5862598e-07,\n",
              "        4.4452618e-06, 1.4086430e-06]], dtype=float32)"
            ]
          },
          "metadata": {},
          "execution_count": 24
        }
      ]
    },
    {
      "cell_type": "code",
      "source": [
        "model_1.predict(x2).round(3)"
      ],
      "metadata": {
        "id": "i2HIjBmKycQh",
        "colab": {
          "base_uri": "https://localhost:8080/"
        },
        "outputId": "6ea3a767-e6c4-4532-80e6-db5742d2516e"
      },
      "execution_count": null,
      "outputs": [
        {
          "output_type": "stream",
          "name": "stdout",
          "text": [
            "1/1 [==============================] - 0s 29ms/step\n"
          ]
        },
        {
          "output_type": "execute_result",
          "data": {
            "text/plain": [
              "array([[0.   , 0.   , 0.995, 0.   , 0.004, 0.   , 0.   , 0.   , 0.   ,\n",
              "        0.   ],\n",
              "       [0.   , 1.   , 0.   , 0.   , 0.   , 0.   , 0.   , 0.   , 0.   ,\n",
              "        0.   ]], dtype=float32)"
            ]
          },
          "metadata": {},
          "execution_count": 25
        }
      ]
    },
    {
      "cell_type": "code",
      "source": [
        "model_1.predict(x2).shape"
      ],
      "metadata": {
        "id": "gnrzCB1ayhMy",
        "colab": {
          "base_uri": "https://localhost:8080/"
        },
        "outputId": "d8723a0e-5f00-4bf0-fd13-9f33400f4f1f"
      },
      "execution_count": null,
      "outputs": [
        {
          "output_type": "stream",
          "name": "stdout",
          "text": [
            "1/1 [==============================] - 0s 21ms/step\n"
          ]
        },
        {
          "output_type": "execute_result",
          "data": {
            "text/plain": [
              "(2, 10)"
            ]
          },
          "metadata": {},
          "execution_count": 26
        }
      ]
    },
    {
      "cell_type": "code",
      "source": [
        "np.argmax(model_1.predict(x2).round(3),axis=1)"
      ],
      "metadata": {
        "id": "gtIzfEJuyl6O",
        "colab": {
          "base_uri": "https://localhost:8080/"
        },
        "outputId": "536a2c24-91f9-4c3c-e411-9d339eac850f"
      },
      "execution_count": null,
      "outputs": [
        {
          "output_type": "stream",
          "name": "stdout",
          "text": [
            "1/1 [==============================] - 0s 49ms/step\n"
          ]
        },
        {
          "output_type": "execute_result",
          "data": {
            "text/plain": [
              "array([2, 1])"
            ]
          },
          "metadata": {},
          "execution_count": 27
        }
      ]
    },
    {
      "cell_type": "code",
      "source": [
        "y_test[1:3]"
      ],
      "metadata": {
        "id": "4d57n-jeyvFI"
      },
      "execution_count": null,
      "outputs": []
    },
    {
      "cell_type": "markdown",
      "source": [
        "#Model 2: CNN"
      ],
      "metadata": {
        "id": "1y44tOF-1F1w"
      }
    },
    {
      "cell_type": "code",
      "source": [
        "x_train.shape"
      ],
      "metadata": {
        "colab": {
          "base_uri": "https://localhost:8080/"
        },
        "id": "ajqABvXL_qV4",
        "outputId": "c890bfa8-7c2c-460a-af22-305d03d4decb"
      },
      "execution_count": null,
      "outputs": [
        {
          "output_type": "execute_result",
          "data": {
            "text/plain": [
              "(60000, 28, 28)"
            ]
          },
          "metadata": {},
          "execution_count": 6
        }
      ]
    },
    {
      "cell_type": "markdown",
      "source": [
        "##Defining Model 2"
      ],
      "metadata": {
        "id": "t_r_lZQKvz6O"
      }
    },
    {
      "cell_type": "code",
      "source": [
        "model_2=Sequential()\n",
        "model_2.add(Conv2D(50,5,activation=\"relu\",padding=\"SAME\",input_shape=[28,28,1]))\n",
        "model_2.add(MaxPooling2D(3))\n",
        "model_2.add(Conv2D(100,3,padding=\"SAME\",activation=\"relu\"))\n",
        "model_2.add(MaxPooling2D(3))\n",
        "model_2.add(Conv2D(200,3,padding=\"SAME\",activation=\"relu\"))\n",
        "model_2.add(MaxPooling2D(3))\n",
        "model_2.add(Flatten())\n",
        "model_2.add(Dense(100,activation=\"elu\"))\n",
        "model_2.add(Dropout(0.3))\n",
        "model_2.add(Dense(75,activation=\"elu\"))\n",
        "model_2.add(Dropout(0.3))\n",
        "model_2.add(Dense(10,activation=\"softmax\"))"
      ],
      "metadata": {
        "id": "pKf_H8i7xaps"
      },
      "execution_count": null,
      "outputs": []
    },
    {
      "cell_type": "code",
      "source": [
        "model_2.summary()"
      ],
      "metadata": {
        "colab": {
          "base_uri": "https://localhost:8080/"
        },
        "id": "6UYfA2yV9L2y",
        "outputId": "376a37c2-ed56-4450-cc03-c1781974947e"
      },
      "execution_count": null,
      "outputs": [
        {
          "output_type": "stream",
          "name": "stdout",
          "text": [
            "Model: \"sequential\"\n",
            "_________________________________________________________________\n",
            " Layer (type)                Output Shape              Param #   \n",
            "=================================================================\n",
            " conv2d (Conv2D)             (None, 28, 28, 50)        1300      \n",
            "                                                                 \n",
            " max_pooling2d (MaxPooling2  (None, 9, 9, 50)          0         \n",
            " D)                                                              \n",
            "                                                                 \n",
            " conv2d_1 (Conv2D)           (None, 9, 9, 100)         45100     \n",
            "                                                                 \n",
            " max_pooling2d_1 (MaxPoolin  (None, 3, 3, 100)         0         \n",
            " g2D)                                                            \n",
            "                                                                 \n",
            " conv2d_2 (Conv2D)           (None, 3, 3, 200)         180200    \n",
            "                                                                 \n",
            " max_pooling2d_2 (MaxPoolin  (None, 1, 1, 200)         0         \n",
            " g2D)                                                            \n",
            "                                                                 \n",
            " flatten (Flatten)           (None, 200)               0         \n",
            "                                                                 \n",
            " dense (Dense)               (None, 100)               20100     \n",
            "                                                                 \n",
            " dropout (Dropout)           (None, 100)               0         \n",
            "                                                                 \n",
            " dense_1 (Dense)             (None, 75)                7575      \n",
            "                                                                 \n",
            " dropout_1 (Dropout)         (None, 75)                0         \n",
            "                                                                 \n",
            " dense_2 (Dense)             (None, 10)                760       \n",
            "                                                                 \n",
            "=================================================================\n",
            "Total params: 255035 (996.23 KB)\n",
            "Trainable params: 255035 (996.23 KB)\n",
            "Non-trainable params: 0 (0.00 Byte)\n",
            "_________________________________________________________________\n"
          ]
        }
      ]
    },
    {
      "cell_type": "code",
      "source": [
        "model_2.layers"
      ],
      "metadata": {
        "colab": {
          "base_uri": "https://localhost:8080/"
        },
        "id": "mixLZd32BMYu",
        "outputId": "754a6790-9cee-4f5c-88ac-ad99dd906458"
      },
      "execution_count": null,
      "outputs": [
        {
          "output_type": "execute_result",
          "data": {
            "text/plain": [
              "[<keras.src.layers.convolutional.conv2d.Conv2D at 0x7928d0409c90>,\n",
              " <keras.src.layers.pooling.max_pooling2d.MaxPooling2D at 0x7928465a3910>,\n",
              " <keras.src.layers.convolutional.conv2d.Conv2D at 0x7928465a3a30>,\n",
              " <keras.src.layers.pooling.max_pooling2d.MaxPooling2D at 0x7928465a2860>,\n",
              " <keras.src.layers.convolutional.conv2d.Conv2D at 0x792845c39cc0>,\n",
              " <keras.src.layers.pooling.max_pooling2d.MaxPooling2D at 0x792845c3a890>,\n",
              " <keras.src.layers.reshaping.flatten.Flatten at 0x7928465a3a00>,\n",
              " <keras.src.layers.core.dense.Dense at 0x792845c3bc70>,\n",
              " <keras.src.layers.regularization.dropout.Dropout at 0x792845c3b640>,\n",
              " <keras.src.layers.core.dense.Dense at 0x792845c39f00>,\n",
              " <keras.src.layers.regularization.dropout.Dropout at 0x792845c3a230>,\n",
              " <keras.src.layers.core.dense.Dense at 0x7928432a4940>]"
            ]
          },
          "metadata": {},
          "execution_count": 9
        }
      ]
    },
    {
      "cell_type": "markdown",
      "source": [
        "##Compiling model 2"
      ],
      "metadata": {
        "id": "q2P9Jzblv2HE"
      }
    },
    {
      "cell_type": "code",
      "source": [
        "model_2.compile(loss=\"sparse_categorical_crossentropy\",\n",
        "              optimizer=keras.optimizers.RMSprop(learning_rate=0.001),\n",
        "              metrics=[\"accuracy\"])"
      ],
      "metadata": {
        "id": "qt-_BJLGBQ6m"
      },
      "execution_count": null,
      "outputs": []
    },
    {
      "cell_type": "markdown",
      "source": [
        "##Fitting model 2"
      ],
      "metadata": {
        "id": "fjE6eNu8v5VF"
      }
    },
    {
      "cell_type": "code",
      "source": [
        "m2=model_2.fit(x_train,y_train,epochs=25,\n",
        "            validation_split=0.15)"
      ],
      "metadata": {
        "colab": {
          "base_uri": "https://localhost:8080/"
        },
        "id": "oOKdafuPBYx0",
        "outputId": "5695cfd0-18d7-46d7-b9ef-89ce9dbb99ab"
      },
      "execution_count": null,
      "outputs": [
        {
          "output_type": "stream",
          "name": "stdout",
          "text": [
            "Epoch 1/25\n",
            "1594/1594 [==============================] - 110s 68ms/step - loss: 0.5218 - accuracy: 0.8117 - val_loss: 0.3333 - val_accuracy: 0.8753\n",
            "Epoch 2/25\n",
            "1594/1594 [==============================] - 104s 65ms/step - loss: 0.3228 - accuracy: 0.8852 - val_loss: 0.3041 - val_accuracy: 0.8877\n",
            "Epoch 3/25\n",
            "1594/1594 [==============================] - 94s 59ms/step - loss: 0.2807 - accuracy: 0.9013 - val_loss: 0.2839 - val_accuracy: 0.8933\n",
            "Epoch 4/25\n",
            "1594/1594 [==============================] - 95s 59ms/step - loss: 0.2568 - accuracy: 0.9098 - val_loss: 0.2890 - val_accuracy: 0.8950\n",
            "Epoch 5/25\n",
            "1594/1594 [==============================] - 94s 59ms/step - loss: 0.2404 - accuracy: 0.9155 - val_loss: 0.3061 - val_accuracy: 0.8957\n",
            "Epoch 6/25\n",
            "1594/1594 [==============================] - 94s 59ms/step - loss: 0.2229 - accuracy: 0.9226 - val_loss: 0.2290 - val_accuracy: 0.9181\n",
            "Epoch 7/25\n",
            "1594/1594 [==============================] - 94s 59ms/step - loss: 0.2151 - accuracy: 0.9251 - val_loss: 0.2617 - val_accuracy: 0.9124\n",
            "Epoch 8/25\n",
            "1594/1594 [==============================] - 92s 58ms/step - loss: 0.2032 - accuracy: 0.9307 - val_loss: 0.2926 - val_accuracy: 0.9113\n",
            "Epoch 9/25\n",
            "1594/1594 [==============================] - 94s 59ms/step - loss: 0.1927 - accuracy: 0.9331 - val_loss: 0.2833 - val_accuracy: 0.9117\n",
            "Epoch 10/25\n",
            "1594/1594 [==============================] - 95s 59ms/step - loss: 0.1872 - accuracy: 0.9365 - val_loss: 0.2660 - val_accuracy: 0.9150\n",
            "Epoch 11/25\n",
            "1594/1594 [==============================] - 94s 59ms/step - loss: 0.1775 - accuracy: 0.9390 - val_loss: 0.3001 - val_accuracy: 0.9083\n",
            "Epoch 12/25\n",
            "1594/1594 [==============================] - 94s 59ms/step - loss: 0.1716 - accuracy: 0.9403 - val_loss: 0.2653 - val_accuracy: 0.9174\n",
            "Epoch 13/25\n",
            "1594/1594 [==============================] - 94s 59ms/step - loss: 0.1670 - accuracy: 0.9420 - val_loss: 0.2974 - val_accuracy: 0.9152\n",
            "Epoch 14/25\n",
            "1594/1594 [==============================] - 93s 58ms/step - loss: 0.1617 - accuracy: 0.9452 - val_loss: 0.2988 - val_accuracy: 0.9119\n",
            "Epoch 15/25\n",
            "1594/1594 [==============================] - 92s 58ms/step - loss: 0.1578 - accuracy: 0.9472 - val_loss: 0.2823 - val_accuracy: 0.9173\n",
            "Epoch 16/25\n",
            "1594/1594 [==============================] - 94s 59ms/step - loss: 0.1515 - accuracy: 0.9496 - val_loss: 0.3268 - val_accuracy: 0.9173\n",
            "Epoch 17/25\n",
            "1594/1594 [==============================] - 94s 59ms/step - loss: 0.1515 - accuracy: 0.9499 - val_loss: 0.3488 - val_accuracy: 0.9127\n",
            "Epoch 18/25\n",
            "1594/1594 [==============================] - 94s 59ms/step - loss: 0.1437 - accuracy: 0.9517 - val_loss: 0.3846 - val_accuracy: 0.9113\n",
            "Epoch 19/25\n",
            "1594/1594 [==============================] - 92s 58ms/step - loss: 0.1427 - accuracy: 0.9526 - val_loss: 0.3477 - val_accuracy: 0.9129\n",
            "Epoch 20/25\n",
            "1594/1594 [==============================] - 94s 59ms/step - loss: 0.1372 - accuracy: 0.9537 - val_loss: 0.3729 - val_accuracy: 0.9178\n",
            "Epoch 21/25\n",
            "1594/1594 [==============================] - 94s 59ms/step - loss: 0.1332 - accuracy: 0.9567 - val_loss: 0.3180 - val_accuracy: 0.9163\n",
            "Epoch 22/25\n",
            "1594/1594 [==============================] - 94s 59ms/step - loss: 0.1301 - accuracy: 0.9575 - val_loss: 0.2933 - val_accuracy: 0.9164\n",
            "Epoch 23/25\n",
            "1594/1594 [==============================] - 93s 58ms/step - loss: 0.1309 - accuracy: 0.9583 - val_loss: 0.3616 - val_accuracy: 0.9122\n",
            "Epoch 24/25\n",
            "1594/1594 [==============================] - 95s 60ms/step - loss: 0.1260 - accuracy: 0.9600 - val_loss: 0.4063 - val_accuracy: 0.9004\n",
            "Epoch 25/25\n",
            "1594/1594 [==============================] - 95s 60ms/step - loss: 0.1258 - accuracy: 0.9602 - val_loss: 0.3289 - val_accuracy: 0.9168\n"
          ]
        }
      ]
    },
    {
      "cell_type": "code",
      "source": [
        "m2.history"
      ],
      "metadata": {
        "colab": {
          "base_uri": "https://localhost:8080/"
        },
        "id": "k82sQYUfD9CW",
        "outputId": "d3f56db3-37e8-49f0-e262-9e5357f74e95"
      },
      "execution_count": null,
      "outputs": [
        {
          "output_type": "execute_result",
          "data": {
            "text/plain": [
              "{'loss': [0.5217939019203186,\n",
              "  0.32280319929122925,\n",
              "  0.28074511885643005,\n",
              "  0.25680747628211975,\n",
              "  0.2404002994298935,\n",
              "  0.22288618981838226,\n",
              "  0.2150905281305313,\n",
              "  0.20322491228580475,\n",
              "  0.19272491335868835,\n",
              "  0.1871853768825531,\n",
              "  0.17746341228485107,\n",
              "  0.1715594232082367,\n",
              "  0.16701601445674896,\n",
              "  0.1616709977388382,\n",
              "  0.15780846774578094,\n",
              "  0.1514517217874527,\n",
              "  0.15146005153656006,\n",
              "  0.143734872341156,\n",
              "  0.1427026093006134,\n",
              "  0.13717016577720642,\n",
              "  0.13322262465953827,\n",
              "  0.13010559976100922,\n",
              "  0.13086378574371338,\n",
              "  0.1259724646806717,\n",
              "  0.1258140355348587],\n",
              " 'accuracy': [0.8116862773895264,\n",
              "  0.8852353096008301,\n",
              "  0.9013137221336365,\n",
              "  0.9098235368728638,\n",
              "  0.9154706001281738,\n",
              "  0.9226470589637756,\n",
              "  0.9251372814178467,\n",
              "  0.9307255148887634,\n",
              "  0.9330587983131409,\n",
              "  0.9364509582519531,\n",
              "  0.9389804005622864,\n",
              "  0.9402941465377808,\n",
              "  0.9420195817947388,\n",
              "  0.9451764822006226,\n",
              "  0.9471960663795471,\n",
              "  0.9496078491210938,\n",
              "  0.9498823285102844,\n",
              "  0.9516666531562805,\n",
              "  0.9525882601737976,\n",
              "  0.9536862969398499,\n",
              "  0.95668625831604,\n",
              "  0.9575098156929016,\n",
              "  0.958254873752594,\n",
              "  0.960019588470459,\n",
              "  0.9602352976799011],\n",
              " 'val_loss': [0.3332846462726593,\n",
              "  0.30414557456970215,\n",
              "  0.2838704586029053,\n",
              "  0.28901222348213196,\n",
              "  0.30607151985168457,\n",
              "  0.22904394567012787,\n",
              "  0.2617291808128357,\n",
              "  0.2925695776939392,\n",
              "  0.28326788544654846,\n",
              "  0.2660263180732727,\n",
              "  0.30011871457099915,\n",
              "  0.2652852535247803,\n",
              "  0.29740944504737854,\n",
              "  0.2987748682498932,\n",
              "  0.28230535984039307,\n",
              "  0.32675424218177795,\n",
              "  0.34880292415618896,\n",
              "  0.38458067178726196,\n",
              "  0.3477324843406677,\n",
              "  0.3729434013366699,\n",
              "  0.3180026412010193,\n",
              "  0.293340802192688,\n",
              "  0.36157551407814026,\n",
              "  0.40628349781036377,\n",
              "  0.32892608642578125],\n",
              " 'val_accuracy': [0.875333309173584,\n",
              "  0.887666642665863,\n",
              "  0.8933333158493042,\n",
              "  0.8949999809265137,\n",
              "  0.8956666588783264,\n",
              "  0.9181110858917236,\n",
              "  0.9124444723129272,\n",
              "  0.9113333225250244,\n",
              "  0.9116666913032532,\n",
              "  0.9150000214576721,\n",
              "  0.9083333611488342,\n",
              "  0.9174444675445557,\n",
              "  0.9152222275733948,\n",
              "  0.9118888974189758,\n",
              "  0.9173333048820496,\n",
              "  0.9173333048820496,\n",
              "  0.9126666784286499,\n",
              "  0.9113333225250244,\n",
              "  0.9128888845443726,\n",
              "  0.9177777767181396,\n",
              "  0.9163333177566528,\n",
              "  0.9164444208145142,\n",
              "  0.9122222065925598,\n",
              "  0.9004444479942322,\n",
              "  0.9167777895927429]}"
            ]
          },
          "metadata": {},
          "execution_count": 13
        }
      ]
    },
    {
      "cell_type": "markdown",
      "source": [
        "##Evaluate model 2"
      ],
      "metadata": {
        "id": "tw_knBlnwhX4"
      }
    },
    {
      "cell_type": "code",
      "source": [
        "model_2.evaluate(x_test,y_test,verbose=0)"
      ],
      "metadata": {
        "colab": {
          "base_uri": "https://localhost:8080/"
        },
        "id": "l_zZXxixCGx-",
        "outputId": "96386926-a688-46c4-c4ed-f109d796ccc0"
      },
      "execution_count": null,
      "outputs": [
        {
          "output_type": "execute_result",
          "data": {
            "text/plain": [
              "[0.374811053276062, 0.9132999777793884]"
            ]
          },
          "metadata": {},
          "execution_count": 14
        }
      ]
    },
    {
      "cell_type": "markdown",
      "source": [
        "#Model 3: Transfer learning with VGG16\n"
      ],
      "metadata": {
        "id": "ym23jGAG7QiO"
      }
    },
    {
      "cell_type": "code",
      "source": [
        "x_train.shape"
      ],
      "metadata": {
        "colab": {
          "base_uri": "https://localhost:8080/"
        },
        "id": "xfe1ml8CUuCJ",
        "outputId": "63b74155-9127-4552-ec21-c3e4e0d85328"
      },
      "execution_count": null,
      "outputs": [
        {
          "output_type": "execute_result",
          "data": {
            "text/plain": [
              "(60000, 28, 28)"
            ]
          },
          "metadata": {},
          "execution_count": 10
        }
      ]
    },
    {
      "cell_type": "code",
      "source": [
        "x_test.shape"
      ],
      "metadata": {
        "colab": {
          "base_uri": "https://localhost:8080/"
        },
        "id": "K-1Irk-CUuiP",
        "outputId": "af450c99-a501-47ec-81f7-521cb4e42cc8"
      },
      "execution_count": null,
      "outputs": [
        {
          "output_type": "execute_result",
          "data": {
            "text/plain": [
              "(10000, 28, 28)"
            ]
          },
          "metadata": {},
          "execution_count": 11
        }
      ]
    },
    {
      "cell_type": "code",
      "source": [
        "y_train.shape"
      ],
      "metadata": {
        "colab": {
          "base_uri": "https://localhost:8080/"
        },
        "id": "8qaK2vpoUxAj",
        "outputId": "f31596d3-f156-4f69-ff58-8edb9aa0353f"
      },
      "execution_count": null,
      "outputs": [
        {
          "output_type": "execute_result",
          "data": {
            "text/plain": [
              "(60000,)"
            ]
          },
          "metadata": {},
          "execution_count": 12
        }
      ]
    },
    {
      "cell_type": "code",
      "source": [
        "y_test.shape"
      ],
      "metadata": {
        "colab": {
          "base_uri": "https://localhost:8080/"
        },
        "id": "sffGD2ssUzLV",
        "outputId": "47b9966f-28e5-4fa6-d950-4a38f5db5510"
      },
      "execution_count": null,
      "outputs": [
        {
          "output_type": "execute_result",
          "data": {
            "text/plain": [
              "(10000,)"
            ]
          },
          "metadata": {},
          "execution_count": 13
        }
      ]
    },
    {
      "cell_type": "markdown",
      "source": [
        "\n",
        "\n",
        "The images of fashionMNIST are black and white, while the required input for VGG16 must be colored images. Thus, I convert the images into colored ones with 3 channels R, G, B.\n"
      ],
      "metadata": {
        "id": "BN_ESqto09yH"
      }
    },
    {
      "cell_type": "code",
      "source": [
        "x_train=np.dstack([x_test]*3)\n",
        "x_test=np.dstack([x_test]*3)"
      ],
      "metadata": {
        "id": "L0fbBTNjU1GW"
      },
      "execution_count": null,
      "outputs": []
    },
    {
      "cell_type": "markdown",
      "source": [
        "Reshaping images as per the tensor format required by tensorflow"
      ],
      "metadata": {
        "id": "BirKb6Lu1SwS"
      }
    },
    {
      "cell_type": "code",
      "source": [
        "x_train = x_train.reshape(60000,28,28,3)\n",
        "x_test= x_test.reshape (10000,28,28,3)"
      ],
      "metadata": {
        "id": "wPLMQjZJU4s8"
      },
      "execution_count": null,
      "outputs": []
    },
    {
      "cell_type": "code",
      "source": [
        "x_train.shape , x_test.shape"
      ],
      "metadata": {
        "colab": {
          "base_uri": "https://localhost:8080/"
        },
        "id": "QAl_OVSkVAQj",
        "outputId": "207f4a8f-cbbd-403f-84f1-ceb0ed1a15e0"
      },
      "execution_count": null,
      "outputs": [
        {
          "output_type": "execute_result",
          "data": {
            "text/plain": [
              "((60000, 28, 28, 3), (10000, 28, 28, 3))"
            ]
          },
          "metadata": {},
          "execution_count": 16
        }
      ]
    },
    {
      "cell_type": "code",
      "source": [
        "x_train = tf.image.resize(x_train, [48,48])\n",
        "x_test = tf.image.resize(x_test, [48,48])"
      ],
      "metadata": {
        "id": "j0dPNaZyVkB_"
      },
      "execution_count": null,
      "outputs": []
    },
    {
      "cell_type": "code",
      "source": [
        "x_train.shape ,x_test.shape"
      ],
      "metadata": {
        "colab": {
          "base_uri": "https://localhost:8080/"
        },
        "id": "swtqB4w9VonP",
        "outputId": "521a1cd8-57a4-4d0e-9a6c-452a94e1b8f1"
      },
      "execution_count": null,
      "outputs": [
        {
          "output_type": "execute_result",
          "data": {
            "text/plain": [
              "(TensorShape([60000, 48, 48, 3]), TensorShape([10000, 48, 48, 3]))"
            ]
          },
          "metadata": {},
          "execution_count": 18
        }
      ]
    },
    {
      "cell_type": "code",
      "source": [
        "y_train_cat = to_categorical(y_train, num_classes=10)\n",
        "y_test_cat = to_categorical(y_test, num_classes=10)"
      ],
      "metadata": {
        "id": "Xq7-wRiUVrE3"
      },
      "execution_count": null,
      "outputs": []
    },
    {
      "cell_type": "code",
      "source": [
        "y_train_cat.shape , y_test_cat.shape"
      ],
      "metadata": {
        "colab": {
          "base_uri": "https://localhost:8080/"
        },
        "id": "BDnnibTMVuvQ",
        "outputId": "c45f3c3c-9753-422c-de31-6f12fba5f875"
      },
      "execution_count": null,
      "outputs": [
        {
          "output_type": "execute_result",
          "data": {
            "text/plain": [
              "((60000, 10), (10000, 10))"
            ]
          },
          "metadata": {},
          "execution_count": 20
        }
      ]
    },
    {
      "cell_type": "code",
      "source": [
        "x_train[0].shape"
      ],
      "metadata": {
        "colab": {
          "base_uri": "https://localhost:8080/"
        },
        "id": "r5FMkJ-sVw8j",
        "outputId": "a670aa1c-f83b-4ad8-d80f-f45bc4743dc8"
      },
      "execution_count": null,
      "outputs": [
        {
          "output_type": "execute_result",
          "data": {
            "text/plain": [
              "TensorShape([48, 48, 3])"
            ]
          },
          "metadata": {},
          "execution_count": 21
        }
      ]
    },
    {
      "cell_type": "markdown",
      "source": [
        "###VGG16 model"
      ],
      "metadata": {
        "id": "KkPy2ZR81qvW"
      }
    },
    {
      "cell_type": "code",
      "source": [
        "base_model=VGG16(\n",
        "    include_top=False,\n",
        "    weights=\"imagenet\",\n",
        "    input_tensor=None,\n",
        "    input_shape=x_train[0].shape,\n",
        "    pooling=None,\n",
        "    classes=1000,\n",
        "    classifier_activation=\"softmax\",\n",
        ")"
      ],
      "metadata": {
        "colab": {
          "base_uri": "https://localhost:8080/"
        },
        "id": "QmRyJMDvV_z_",
        "outputId": "6e91c5a0-253d-46ec-c21c-79b2335cd31e"
      },
      "execution_count": null,
      "outputs": [
        {
          "output_type": "stream",
          "name": "stdout",
          "text": [
            "Downloading data from https://storage.googleapis.com/tensorflow/keras-applications/vgg16/vgg16_weights_tf_dim_ordering_tf_kernels_notop.h5\n",
            "58889256/58889256 [==============================] - 0s 0us/step\n"
          ]
        }
      ]
    },
    {
      "cell_type": "code",
      "source": [
        "base_model.trainable=False"
      ],
      "metadata": {
        "id": "gFk87eltWEqV"
      },
      "execution_count": null,
      "outputs": []
    },
    {
      "cell_type": "code",
      "source": [
        "base_model.summary()"
      ],
      "metadata": {
        "colab": {
          "base_uri": "https://localhost:8080/"
        },
        "id": "4UtRaOIjWHb-",
        "outputId": "6260a56b-808b-4503-9eea-9bf7e5433ce5"
      },
      "execution_count": null,
      "outputs": [
        {
          "output_type": "stream",
          "name": "stdout",
          "text": [
            "Model: \"vgg16\"\n",
            "_________________________________________________________________\n",
            " Layer (type)                Output Shape              Param #   \n",
            "=================================================================\n",
            " input_1 (InputLayer)        [(None, 48, 48, 3)]       0         \n",
            "                                                                 \n",
            " block1_conv1 (Conv2D)       (None, 48, 48, 64)        1792      \n",
            "                                                                 \n",
            " block1_conv2 (Conv2D)       (None, 48, 48, 64)        36928     \n",
            "                                                                 \n",
            " block1_pool (MaxPooling2D)  (None, 24, 24, 64)        0         \n",
            "                                                                 \n",
            " block2_conv1 (Conv2D)       (None, 24, 24, 128)       73856     \n",
            "                                                                 \n",
            " block2_conv2 (Conv2D)       (None, 24, 24, 128)       147584    \n",
            "                                                                 \n",
            " block2_pool (MaxPooling2D)  (None, 12, 12, 128)       0         \n",
            "                                                                 \n",
            " block3_conv1 (Conv2D)       (None, 12, 12, 256)       295168    \n",
            "                                                                 \n",
            " block3_conv2 (Conv2D)       (None, 12, 12, 256)       590080    \n",
            "                                                                 \n",
            " block3_conv3 (Conv2D)       (None, 12, 12, 256)       590080    \n",
            "                                                                 \n",
            " block3_pool (MaxPooling2D)  (None, 6, 6, 256)         0         \n",
            "                                                                 \n",
            " block4_conv1 (Conv2D)       (None, 6, 6, 512)         1180160   \n",
            "                                                                 \n",
            " block4_conv2 (Conv2D)       (None, 6, 6, 512)         2359808   \n",
            "                                                                 \n",
            " block4_conv3 (Conv2D)       (None, 6, 6, 512)         2359808   \n",
            "                                                                 \n",
            " block4_pool (MaxPooling2D)  (None, 3, 3, 512)         0         \n",
            "                                                                 \n",
            " block5_conv1 (Conv2D)       (None, 3, 3, 512)         2359808   \n",
            "                                                                 \n",
            " block5_conv2 (Conv2D)       (None, 3, 3, 512)         2359808   \n",
            "                                                                 \n",
            " block5_conv3 (Conv2D)       (None, 3, 3, 512)         2359808   \n",
            "                                                                 \n",
            " block5_pool (MaxPooling2D)  (None, 1, 1, 512)         0         \n",
            "                                                                 \n",
            "=================================================================\n",
            "Total params: 14714688 (56.13 MB)\n",
            "Trainable params: 0 (0.00 Byte)\n",
            "Non-trainable params: 14714688 (56.13 MB)\n",
            "_________________________________________________________________\n"
          ]
        }
      ]
    },
    {
      "cell_type": "markdown",
      "source": [
        "##Defining Model 3"
      ],
      "metadata": {
        "id": "a9H9AURn1w6o"
      }
    },
    {
      "cell_type": "code",
      "source": [
        "flatten_layer = Flatten()\n",
        "dense_layer_1 = Dense(50, activation='relu')\n",
        "dense_layer_2 = Dense(20, activation='relu')\n",
        "prediction_layer = Dense(num_classes, activation='softmax')\n",
        "\n",
        "\n",
        "model = Sequential([\n",
        "    base_model,\n",
        "    flatten_layer,\n",
        "    dense_layer_1,\n",
        "    dense_layer_2,\n",
        "    prediction_layer\n",
        "])"
      ],
      "metadata": {
        "id": "KCLB0Q8_WJRO"
      },
      "execution_count": null,
      "outputs": []
    },
    {
      "cell_type": "markdown",
      "source": [
        "\n",
        "Reduced learning and Early stopping for callback Implementation"
      ],
      "metadata": {
        "id": "WZpf9eqr2CWx"
      }
    },
    {
      "cell_type": "code",
      "source": [
        "reduce_learning = keras.callbacks.ReduceLROnPlateau(\n",
        "    monitor='val_loss',\n",
        "    factor=0.2,\n",
        "    patience=2,\n",
        "    verbose=1,\n",
        "    mode='auto',\n",
        "    epsilon=0.0001,\n",
        "    cooldown=2,\n",
        "    min_lr=0)\n",
        "\n",
        "eary_stopping = keras.callbacks.EarlyStopping(\n",
        "    monitor='val_loss',\n",
        "    min_delta=0,\n",
        "    patience=7,\n",
        "    verbose=1,\n",
        "    mode='auto')\n",
        "\n",
        "my_callback_2=[reduce_learning ,eary_stopping]"
      ],
      "metadata": {
        "colab": {
          "base_uri": "https://localhost:8080/"
        },
        "id": "Oe4fbK3Ensx1",
        "outputId": "07d093ef-b8a1-424d-ea1f-dfd2bb2b6491"
      },
      "execution_count": null,
      "outputs": [
        {
          "output_type": "stream",
          "name": "stderr",
          "text": [
            "WARNING:tensorflow:`epsilon` argument is deprecated and will be removed, use `min_delta` instead.\n"
          ]
        }
      ]
    },
    {
      "cell_type": "markdown",
      "source": [],
      "metadata": {
        "id": "64hPjZ-B2J2H"
      }
    },
    {
      "cell_type": "markdown",
      "source": [
        "##Compiling model 3"
      ],
      "metadata": {
        "id": "64kz5ALG2V-v"
      }
    },
    {
      "cell_type": "code",
      "source": [
        "model.compile(loss=\"categorical_crossentropy\",\n",
        "              optimizer=\"adam\",\n",
        "              metrics=[\"accuracy\"])"
      ],
      "metadata": {
        "id": "jRLopTa2WMe7"
      },
      "execution_count": null,
      "outputs": []
    },
    {
      "cell_type": "markdown",
      "source": [
        "##Fitting model 3"
      ],
      "metadata": {
        "id": "xAlakbSr2em3"
      }
    },
    {
      "cell_type": "code",
      "source": [
        "model.fit(x_train, y_train_cat, epochs=50,\n",
        "          validation_split=0.2, callbacks=my_callback_2)"
      ],
      "metadata": {
        "colab": {
          "base_uri": "https://localhost:8080/"
        },
        "id": "5VOXIzjfWO3N",
        "outputId": "26d731f1-63f5-497b-c973-64cf19207053"
      },
      "execution_count": null,
      "outputs": [
        {
          "output_type": "stream",
          "name": "stdout",
          "text": [
            "Epoch 1/50\n",
            "1500/1500 [==============================] - 1096s 730ms/step - loss: 0.9270 - accuracy: 0.7248 - val_loss: 0.6116 - val_accuracy: 0.7851 - lr: 0.0010\n",
            "Epoch 2/50\n",
            "1500/1500 [==============================] - 1037s 692ms/step - loss: 0.5483 - accuracy: 0.8053 - val_loss: 0.5536 - val_accuracy: 0.8051 - lr: 0.0010\n",
            "Epoch 3/50\n",
            "1500/1500 [==============================] - 1092s 728ms/step - loss: 0.4943 - accuracy: 0.8216 - val_loss: 0.5211 - val_accuracy: 0.8120 - lr: 0.0010\n",
            "Epoch 4/50\n",
            "1500/1500 [==============================] - 1035s 690ms/step - loss: 0.4662 - accuracy: 0.8308 - val_loss: 0.5032 - val_accuracy: 0.8207 - lr: 0.0010\n",
            "Epoch 5/50\n",
            "1500/1500 [==============================] - 1033s 689ms/step - loss: 0.4442 - accuracy: 0.8395 - val_loss: 0.4934 - val_accuracy: 0.8254 - lr: 0.0010\n",
            "Epoch 6/50\n",
            "1500/1500 [==============================] - 1090s 727ms/step - loss: 0.4276 - accuracy: 0.8440 - val_loss: 0.4936 - val_accuracy: 0.8226 - lr: 0.0010\n",
            "Epoch 7/50\n",
            "1500/1500 [==============================] - 1092s 728ms/step - loss: 0.4129 - accuracy: 0.8478 - val_loss: 0.4759 - val_accuracy: 0.8315 - lr: 0.0010\n",
            "Epoch 8/50\n",
            "1500/1500 [==============================] - 1034s 690ms/step - loss: 0.4015 - accuracy: 0.8506 - val_loss: 0.4809 - val_accuracy: 0.8314 - lr: 0.0010\n",
            "Epoch 9/50\n",
            "1500/1500 [==============================] - ETA: 0s - loss: 0.3926 - accuracy: 0.8551\n",
            "Epoch 9: ReduceLROnPlateau reducing learning rate to 0.00020000000949949026.\n",
            "1500/1500 [==============================] - 1034s 690ms/step - loss: 0.3926 - accuracy: 0.8551 - val_loss: 0.4777 - val_accuracy: 0.8325 - lr: 0.0010\n",
            "Epoch 10/50\n",
            "1500/1500 [==============================] - 1035s 690ms/step - loss: 0.3422 - accuracy: 0.8740 - val_loss: 0.4533 - val_accuracy: 0.8420 - lr: 2.0000e-04\n",
            "Epoch 11/50\n",
            "1500/1500 [==============================] - 1048s 698ms/step - loss: 0.3330 - accuracy: 0.8767 - val_loss: 0.4532 - val_accuracy: 0.8413 - lr: 2.0000e-04\n",
            "Epoch 12/50\n",
            "1500/1500 [==============================] - ETA: 0s - loss: 0.3273 - accuracy: 0.8796\n",
            "Epoch 12: ReduceLROnPlateau reducing learning rate to 4.0000001899898055e-05.\n",
            "1500/1500 [==============================] - 1091s 727ms/step - loss: 0.3273 - accuracy: 0.8796 - val_loss: 0.4544 - val_accuracy: 0.8432 - lr: 2.0000e-04\n",
            "Epoch 13/50\n",
            "1500/1500 [==============================] - 1035s 690ms/step - loss: 0.3144 - accuracy: 0.8849 - val_loss: 0.4524 - val_accuracy: 0.8438 - lr: 4.0000e-05\n",
            "Epoch 14/50\n",
            "1500/1500 [==============================] - 1034s 689ms/step - loss: 0.3122 - accuracy: 0.8856 - val_loss: 0.4543 - val_accuracy: 0.8432 - lr: 4.0000e-05\n",
            "Epoch 15/50\n",
            "1500/1500 [==============================] - ETA: 0s - loss: 0.3109 - accuracy: 0.8856\n",
            "Epoch 15: ReduceLROnPlateau reducing learning rate to 8.000000525498762e-06.\n",
            "1500/1500 [==============================] - 1035s 690ms/step - loss: 0.3109 - accuracy: 0.8856 - val_loss: 0.4554 - val_accuracy: 0.8449 - lr: 4.0000e-05\n",
            "Epoch 16/50\n",
            "1500/1500 [==============================] - 1035s 690ms/step - loss: 0.3079 - accuracy: 0.8875 - val_loss: 0.4550 - val_accuracy: 0.8447 - lr: 8.0000e-06\n",
            "Epoch 17/50\n",
            "1500/1500 [==============================] - 1030s 687ms/step - loss: 0.3073 - accuracy: 0.8870 - val_loss: 0.4553 - val_accuracy: 0.8445 - lr: 8.0000e-06\n",
            "Epoch 18/50\n",
            "1500/1500 [==============================] - ETA: 0s - loss: 0.3071 - accuracy: 0.8874\n",
            "Epoch 18: ReduceLROnPlateau reducing learning rate to 1.6000001778593287e-06.\n",
            "1500/1500 [==============================] - 1038s 692ms/step - loss: 0.3071 - accuracy: 0.8874 - val_loss: 0.4553 - val_accuracy: 0.8445 - lr: 8.0000e-06\n",
            "Epoch 19/50\n",
            "1500/1500 [==============================] - 1033s 688ms/step - loss: 0.3064 - accuracy: 0.8876 - val_loss: 0.4553 - val_accuracy: 0.8447 - lr: 1.6000e-06\n",
            "Epoch 20/50\n",
            "1500/1500 [==============================] - 1031s 688ms/step - loss: 0.3063 - accuracy: 0.8876 - val_loss: 0.4554 - val_accuracy: 0.8447 - lr: 1.6000e-06\n",
            "Epoch 20: early stopping\n"
          ]
        },
        {
          "output_type": "execute_result",
          "data": {
            "text/plain": [
              "<keras.src.callbacks.History at 0x7e717b735210>"
            ]
          },
          "metadata": {},
          "execution_count": 29
        }
      ]
    },
    {
      "cell_type": "markdown",
      "source": [
        "##Evaluate model 3"
      ],
      "metadata": {
        "id": "OHbBkoOh3C5f"
      }
    },
    {
      "cell_type": "markdown",
      "source": [
        "Note: You can experiment with different hyperparameters for the VGG16 model to potentially improve its performance. Feel free to modify the epochs, batch_size, learning_rate, and optimizer parameters. Fine-tuning these parameters may lead to a better-performing model."
      ],
      "metadata": {
        "id": "wSNiXblu4MlN"
      }
    },
    {
      "cell_type": "code",
      "source": [
        "model.evaluate(x_test,y_test_cat,verbose=0)"
      ],
      "metadata": {
        "id": "DX260FsuWmh1",
        "colab": {
          "base_uri": "https://localhost:8080/"
        },
        "outputId": "93f0dd8a-6f82-451d-bd66-d24aae4330b6"
      },
      "execution_count": null,
      "outputs": [
        {
          "output_type": "execute_result",
          "data": {
            "text/plain": [
              "[0.4958232045173645, 0.8393999934196472]"
            ]
          },
          "metadata": {},
          "execution_count": 32
        }
      ]
    }
  ]
}